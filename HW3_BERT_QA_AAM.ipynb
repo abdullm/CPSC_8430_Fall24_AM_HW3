{
 "cells": [
  {
   "cell_type": "code",
   "execution_count": 1,
   "id": "25ccd010-e930-4c94-9886-5535f765724e",
   "metadata": {
    "tags": []
   },
   "outputs": [
    {
     "name": "stderr",
     "output_type": "stream",
     "text": [
      "2024-11-07 22:46:22.821346: I tensorflow/core/util/port.cc:113] oneDNN custom operations are on. You may see slightly different numerical results due to floating-point round-off errors from different computation orders. To turn them off, set the environment variable `TF_ENABLE_ONEDNN_OPTS=0`.\n",
      "2024-11-07 22:46:22.833397: E external/local_xla/xla/stream_executor/cuda/cuda_fft.cc:479] Unable to register cuFFT factory: Attempting to register factory for plugin cuFFT when one has already been registered\n",
      "2024-11-07 22:46:22.851473: E external/local_xla/xla/stream_executor/cuda/cuda_dnn.cc:10575] Unable to register cuDNN factory: Attempting to register factory for plugin cuDNN when one has already been registered\n",
      "2024-11-07 22:46:22.851494: E external/local_xla/xla/stream_executor/cuda/cuda_blas.cc:1442] Unable to register cuBLAS factory: Attempting to register factory for plugin cuBLAS when one has already been registered\n",
      "2024-11-07 22:46:22.863397: I tensorflow/core/platform/cpu_feature_guard.cc:210] This TensorFlow binary is optimized to use available CPU instructions in performance-critical operations.\n",
      "To enable the following instructions: AVX2 AVX512F AVX512_VNNI FMA, in other operations, rebuild TensorFlow with the appropriate compiler flags.\n",
      "2024-11-07 22:46:24.031685: W tensorflow/compiler/tf2tensorrt/utils/py_utils.cc:38] TF-TRT Warning: Could not find TensorRT\n"
     ]
    }
   ],
   "source": [
    "import warnings\n",
    "warnings.filterwarnings(\"ignore\")\n",
    "\n",
    "# Import libraries\n",
    "from transformers import AutoTokenizer, AutoModelForQuestionAnswering, TrainingArguments, Trainer\n",
    "from datasets import Dataset, DatasetDict, load_dataset\n",
    "import torch\n",
    "from torch.utils.data import DataLoader\n",
    "from transformers import AdamW, get_linear_schedule_with_warmup\n",
    "from tqdm import tqdm\n",
    "from jiwer import wer\n",
    "import os\n",
    "import pandas as pd\n",
    "from torch.nn.utils.rnn import pad_sequence\n",
    "import numpy as np\n",
    "import matplotlib.pyplot as plt"
   ]
  },
  {
   "cell_type": "code",
   "execution_count": 2,
   "id": "d741d38b-2ea9-45a4-bd1d-71693aa473b4",
   "metadata": {
    "tags": []
   },
   "outputs": [],
   "source": [
    "# Clone Spoken-SQuAD repository\n",
    "def setup_data():\n",
    "    if not os.path.exists(\"Spoken-SQuAD\"):\n",
    "        os.makedirs(\"Spoken-SQuAD\")\n",
    "        print(\"Creating 'Spoken-SQuAD' directory and cloning repository...\")\n",
    "        os.system(\"git clone https://github.com/chiahsuan156/Spoken-SQuAD.git Spoken-SQuAD\")\n",
    "        print(\"Spoken-SQuAD repository cloned successfully into 'Spoken-SQuAD' directory.\")\n",
    "\n",
    "setup_data()"
   ]
  },
  {
   "cell_type": "code",
   "execution_count": 3,
   "id": "8ad481dd-1f44-4763-b61f-abf81eba09c1",
   "metadata": {
    "tags": []
   },
   "outputs": [
    {
     "name": "stdout",
     "output_type": "stream",
     "text": [
      "Loading tokenizer...\n",
      "Tokenizer loaded successfully.\n"
     ]
    }
   ],
   "source": [
    "# Load the tokenizer\n",
    "print(\"Loading tokenizer...\")\n",
    "model_checkpoint = \"bert-base-uncased\"  # Can be replaced with other pre-trained models\n",
    "tokenizer = AutoTokenizer.from_pretrained(model_checkpoint)\n",
    "print(\"Tokenizer loaded successfully.\")"
   ]
  },
  {
   "cell_type": "code",
   "execution_count": 4,
   "id": "fe0e8122-15e0-4c8a-a82e-d758bd85a443",
   "metadata": {
    "tags": []
   },
   "outputs": [
    {
     "name": "stdout",
     "output_type": "stream",
     "text": [
      "Loading dataset...\n",
      "Dataset loaded successfully.\n"
     ]
    }
   ],
   "source": [
    "# Load and convert data into a Hugging Face Dataset if not already\n",
    "print(\"Loading dataset...\")\n",
    "train_dataset = pd.read_json(\"Spoken-SQuAD/spoken_train-v1.1.json\")\n",
    "train_dataset = Dataset.from_pandas(train_dataset)\n",
    "\n",
    "test_dataset = pd.read_json(\"Spoken-SQuAD/spoken_test-v1.1.json\")\n",
    "test_dataset = Dataset.from_pandas(test_dataset)\n",
    "\n",
    "print(\"Dataset loaded successfully.\")"
   ]
  },
  {
   "cell_type": "code",
   "execution_count": 5,
   "id": "eab8de83-ccc1-4142-a0c6-244640a60f13",
   "metadata": {
    "tags": []
   },
   "outputs": [],
   "source": [
    "# Prepare training features function\n",
    "def prepare_training_features(examples):\n",
    "    questions = []\n",
    "    contexts = []\n",
    "    answers = []\n",
    "    \n",
    "    for entry in examples[\"data\"]:\n",
    "        for paragraph in entry[\"paragraphs\"]:\n",
    "            context = paragraph[\"context\"]\n",
    "            for qa in paragraph[\"qas\"]:\n",
    "                question = qa[\"question\"]\n",
    "                if len(qa[\"answers\"]) > 0:\n",
    "                    questions.append(question)\n",
    "                    contexts.append(context)\n",
    "                    answers.append(qa[\"answers\"][0])\n",
    "    \n",
    "    # Check if lists are empty\n",
    "    if not questions or not contexts or not answers:\n",
    "        print(\"One of the lists is empty, skipping tokenization.\")\n",
    "        return {}\n",
    "    \n",
    "    # Tokenize inputs\n",
    "    tokenized_examples = tokenizer(\n",
    "        questions,\n",
    "        contexts,\n",
    "        truncation=\"only_second\",\n",
    "        max_length=512,  \n",
    "        stride=128,\n",
    "        return_overflowing_tokens=True,\n",
    "        return_offsets_mapping=True,\n",
    "        padding=\"max_length\",\n",
    "    )\n",
    "    \n",
    "    sample_mapping = tokenized_examples.pop(\"overflow_to_sample_mapping\")\n",
    "    \n",
    "    # Processing labels\n",
    "    start_positions = []\n",
    "    end_positions = []\n",
    "    \n",
    "    for i in range(len(tokenized_examples[\"input_ids\"])):\n",
    "        # Identify the corresponding example\n",
    "        sample_index = sample_mapping[i]\n",
    "        answer = answers[sample_index]\n",
    "        start_char = answer[\"answer_start\"]\n",
    "        end_char = start_char + len(answer[\"text\"])\n",
    "        \n",
    "        # Get the offsets for the current tokenized input\n",
    "        offsets = tokenized_examples[\"offset_mapping\"][i]\n",
    "        sequence_ids = tokenized_examples.sequence_ids(i)\n",
    "        \n",
    "        # Find the start and end of the context in the tokenized input\n",
    "        context_start = sequence_ids.index(1)\n",
    "        context_end = len(sequence_ids) - 1 - sequence_ids[::-1].index(1)\n",
    "        \n",
    "        # If the answer is outside the context, label start and end as 0\n",
    "        if not (offsets[context_start][0] <= start_char < offsets[context_end][1]):\n",
    "            start_positions.append(0)\n",
    "            end_positions.append(0)\n",
    "        else:\n",
    "            # Otherwise, set the token start and end positions of the answer\n",
    "            token_start_index = context_start\n",
    "            token_end_index = context_end\n",
    "            \n",
    "            while token_start_index < len(offsets) and offsets[token_start_index][0] <= start_char:\n",
    "                token_start_index += 1\n",
    "            start_positions.append(token_start_index - 1)\n",
    "            \n",
    "            while token_end_index > 0 and offsets[token_end_index][1] >= end_char:\n",
    "                token_end_index -= 1\n",
    "            end_positions.append(token_end_index + 1)\n",
    "    \n",
    "    tokenized_examples[\"start_positions\"] = start_positions\n",
    "    tokenized_examples[\"end_positions\"] = end_positions\n",
    "    \n",
    "    return tokenized_examples"
   ]
  },
  {
   "cell_type": "code",
   "execution_count": 6,
   "id": "cd515529-311c-43ea-9302-0987976fb7c1",
   "metadata": {
    "tags": []
   },
   "outputs": [
    {
     "name": "stdout",
     "output_type": "stream",
     "text": [
      "Processing training and validation dataset...\n"
     ]
    },
    {
     "data": {
      "application/vnd.jupyter.widget-view+json": {
       "model_id": "5e06a24ca31c4b3ba0c4f20623960f90",
       "version_major": 2,
       "version_minor": 0
      },
      "text/plain": [
       "Map:   0%|          | 0/442 [00:00<?, ? examples/s]"
      ]
     },
     "metadata": {},
     "output_type": "display_data"
    },
    {
     "data": {
      "application/vnd.jupyter.widget-view+json": {
       "model_id": "422d0fb105ef45298ebde11bbdeee7c5",
       "version_major": 2,
       "version_minor": 0
      },
      "text/plain": [
       "Map:   0%|          | 0/48 [00:00<?, ? examples/s]"
      ]
     },
     "metadata": {},
     "output_type": "display_data"
    },
    {
     "name": "stdout",
     "output_type": "stream",
     "text": [
      "Training and validation dataset processed successfully.\n"
     ]
    }
   ],
   "source": [
    "# Training and validation dataset\n",
    "print(\"Processing training and validation dataset...\")\n",
    "train_dataset = train_dataset.map(prepare_training_features, batched=True, remove_columns=train_dataset.column_names)\n",
    "val_dataset = test_dataset.map(prepare_training_features, batched=True, remove_columns=test_dataset.column_names)\n",
    "print(\"Training and validation dataset processed successfully.\")"
   ]
  },
  {
   "cell_type": "code",
   "execution_count": 7,
   "id": "f16c4f0e-8533-44c0-bd7b-ef31556f58ac",
   "metadata": {
    "tags": []
   },
   "outputs": [
    {
     "name": "stdout",
     "output_type": "stream",
     "text": [
      "First processed training row:\n",
      "{'input_ids': [101, 2054, 2003, 1999, 2392, 1997, 1996, 10289, 8214, 2364, 2311, 1029, 102, 6549, 2135, 1996, 2082, 2038, 1037, 3234, 2839, 1012, 10234, 1996, 2364, 2311, 2082, 8514, 2003, 1996, 3585, 6231, 1997, 1996, 6261, 2984, 1012, 3202, 1999, 2392, 1997, 1996, 2364, 2311, 1999, 5307, 2009, 2003, 1037, 6967, 6231, 1997, 4828, 2007, 2608, 10439, 14995, 6924, 2007, 1996, 5722, 1998, 1996, 2919, 2033, 5004, 3415, 1012, 2279, 2000, 1996, 2364, 2311, 2003, 1996, 13546, 1997, 1996, 6730, 2540, 1012, 3202, 2369, 1996, 13546, 2003, 1996, 24665, 23052, 10047, 2984, 1999, 2173, 1997, 7083, 1998, 9185, 1012, 2009, 2003, 1037, 15059, 1997, 1996, 24665, 23052, 2012, 10223, 26371, 2605, 2073, 1996, 6261, 2984, 22353, 2135, 2596, 2000, 2358, 16595, 9648, 4674, 2145, 5255, 7763, 5595, 2809, 1012, 2012, 1996, 2203, 1997, 1996, 2364, 3298, 1998, 1999, 1037, 3622, 2240, 2008, 8539, 2083, 2093, 11342, 1999, 1996, 2751, 8514, 2003, 2004, 3722, 2715, 2962, 6231, 1997, 2984, 1012, 102, 0, 0, 0, 0, 0, 0, 0, 0, 0, 0, 0, 0, 0, 0, 0, 0, 0, 0, 0, 0, 0, 0, 0, 0, 0, 0, 0, 0, 0, 0, 0, 0, 0, 0, 0, 0, 0, 0, 0, 0, 0, 0, 0, 0, 0, 0, 0, 0, 0, 0, 0, 0, 0, 0, 0, 0, 0, 0, 0, 0, 0, 0, 0, 0, 0, 0, 0, 0, 0, 0, 0, 0, 0, 0, 0, 0, 0, 0, 0, 0, 0, 0, 0, 0, 0, 0, 0, 0, 0, 0, 0, 0, 0, 0, 0, 0, 0, 0, 0, 0, 0, 0, 0, 0, 0, 0, 0, 0, 0, 0, 0, 0, 0, 0, 0, 0, 0, 0, 0, 0, 0, 0, 0, 0, 0, 0, 0, 0, 0, 0, 0, 0, 0, 0, 0, 0, 0, 0, 0, 0, 0, 0, 0, 0, 0, 0, 0, 0, 0, 0, 0, 0, 0, 0, 0, 0, 0, 0, 0, 0, 0, 0, 0, 0, 0, 0, 0, 0, 0, 0, 0, 0, 0, 0, 0, 0, 0, 0, 0, 0, 0, 0, 0, 0, 0, 0, 0, 0, 0, 0, 0, 0, 0, 0, 0, 0, 0, 0, 0, 0, 0, 0, 0, 0, 0, 0, 0, 0, 0, 0, 0, 0, 0, 0, 0, 0, 0, 0, 0, 0, 0, 0, 0, 0, 0, 0, 0, 0, 0, 0, 0, 0, 0, 0, 0, 0, 0, 0, 0, 0, 0, 0, 0, 0, 0, 0, 0, 0, 0, 0, 0, 0, 0, 0, 0, 0, 0, 0, 0, 0, 0, 0, 0, 0, 0, 0, 0, 0, 0, 0, 0, 0, 0, 0, 0, 0, 0, 0, 0, 0, 0, 0, 0, 0, 0, 0, 0, 0, 0, 0, 0, 0, 0, 0, 0, 0, 0, 0, 0, 0, 0, 0, 0, 0, 0, 0, 0, 0, 0, 0, 0, 0, 0, 0, 0, 0, 0, 0, 0, 0, 0, 0, 0, 0, 0, 0, 0, 0, 0, 0, 0, 0, 0, 0, 0, 0, 0, 0, 0, 0, 0, 0, 0, 0, 0, 0, 0, 0, 0, 0, 0, 0, 0], 'token_type_ids': [0, 0, 0, 0, 0, 0, 0, 0, 0, 0, 0, 0, 0, 1, 1, 1, 1, 1, 1, 1, 1, 1, 1, 1, 1, 1, 1, 1, 1, 1, 1, 1, 1, 1, 1, 1, 1, 1, 1, 1, 1, 1, 1, 1, 1, 1, 1, 1, 1, 1, 1, 1, 1, 1, 1, 1, 1, 1, 1, 1, 1, 1, 1, 1, 1, 1, 1, 1, 1, 1, 1, 1, 1, 1, 1, 1, 1, 1, 1, 1, 1, 1, 1, 1, 1, 1, 1, 1, 1, 1, 1, 1, 1, 1, 1, 1, 1, 1, 1, 1, 1, 1, 1, 1, 1, 1, 1, 1, 1, 1, 1, 1, 1, 1, 1, 1, 1, 1, 1, 1, 1, 1, 1, 1, 1, 1, 1, 1, 1, 1, 1, 1, 1, 1, 1, 1, 1, 1, 1, 1, 1, 1, 1, 1, 1, 1, 1, 1, 1, 1, 1, 1, 1, 1, 1, 1, 1, 1, 1, 0, 0, 0, 0, 0, 0, 0, 0, 0, 0, 0, 0, 0, 0, 0, 0, 0, 0, 0, 0, 0, 0, 0, 0, 0, 0, 0, 0, 0, 0, 0, 0, 0, 0, 0, 0, 0, 0, 0, 0, 0, 0, 0, 0, 0, 0, 0, 0, 0, 0, 0, 0, 0, 0, 0, 0, 0, 0, 0, 0, 0, 0, 0, 0, 0, 0, 0, 0, 0, 0, 0, 0, 0, 0, 0, 0, 0, 0, 0, 0, 0, 0, 0, 0, 0, 0, 0, 0, 0, 0, 0, 0, 0, 0, 0, 0, 0, 0, 0, 0, 0, 0, 0, 0, 0, 0, 0, 0, 0, 0, 0, 0, 0, 0, 0, 0, 0, 0, 0, 0, 0, 0, 0, 0, 0, 0, 0, 0, 0, 0, 0, 0, 0, 0, 0, 0, 0, 0, 0, 0, 0, 0, 0, 0, 0, 0, 0, 0, 0, 0, 0, 0, 0, 0, 0, 0, 0, 0, 0, 0, 0, 0, 0, 0, 0, 0, 0, 0, 0, 0, 0, 0, 0, 0, 0, 0, 0, 0, 0, 0, 0, 0, 0, 0, 0, 0, 0, 0, 0, 0, 0, 0, 0, 0, 0, 0, 0, 0, 0, 0, 0, 0, 0, 0, 0, 0, 0, 0, 0, 0, 0, 0, 0, 0, 0, 0, 0, 0, 0, 0, 0, 0, 0, 0, 0, 0, 0, 0, 0, 0, 0, 0, 0, 0, 0, 0, 0, 0, 0, 0, 0, 0, 0, 0, 0, 0, 0, 0, 0, 0, 0, 0, 0, 0, 0, 0, 0, 0, 0, 0, 0, 0, 0, 0, 0, 0, 0, 0, 0, 0, 0, 0, 0, 0, 0, 0, 0, 0, 0, 0, 0, 0, 0, 0, 0, 0, 0, 0, 0, 0, 0, 0, 0, 0, 0, 0, 0, 0, 0, 0, 0, 0, 0, 0, 0, 0, 0, 0, 0, 0, 0, 0, 0, 0, 0, 0, 0, 0, 0, 0, 0, 0, 0, 0, 0, 0, 0, 0, 0, 0, 0, 0, 0, 0, 0, 0, 0, 0, 0, 0, 0, 0, 0, 0, 0, 0, 0, 0, 0, 0, 0, 0, 0], 'attention_mask': [1, 1, 1, 1, 1, 1, 1, 1, 1, 1, 1, 1, 1, 1, 1, 1, 1, 1, 1, 1, 1, 1, 1, 1, 1, 1, 1, 1, 1, 1, 1, 1, 1, 1, 1, 1, 1, 1, 1, 1, 1, 1, 1, 1, 1, 1, 1, 1, 1, 1, 1, 1, 1, 1, 1, 1, 1, 1, 1, 1, 1, 1, 1, 1, 1, 1, 1, 1, 1, 1, 1, 1, 1, 1, 1, 1, 1, 1, 1, 1, 1, 1, 1, 1, 1, 1, 1, 1, 1, 1, 1, 1, 1, 1, 1, 1, 1, 1, 1, 1, 1, 1, 1, 1, 1, 1, 1, 1, 1, 1, 1, 1, 1, 1, 1, 1, 1, 1, 1, 1, 1, 1, 1, 1, 1, 1, 1, 1, 1, 1, 1, 1, 1, 1, 1, 1, 1, 1, 1, 1, 1, 1, 1, 1, 1, 1, 1, 1, 1, 1, 1, 1, 1, 1, 1, 1, 1, 1, 1, 0, 0, 0, 0, 0, 0, 0, 0, 0, 0, 0, 0, 0, 0, 0, 0, 0, 0, 0, 0, 0, 0, 0, 0, 0, 0, 0, 0, 0, 0, 0, 0, 0, 0, 0, 0, 0, 0, 0, 0, 0, 0, 0, 0, 0, 0, 0, 0, 0, 0, 0, 0, 0, 0, 0, 0, 0, 0, 0, 0, 0, 0, 0, 0, 0, 0, 0, 0, 0, 0, 0, 0, 0, 0, 0, 0, 0, 0, 0, 0, 0, 0, 0, 0, 0, 0, 0, 0, 0, 0, 0, 0, 0, 0, 0, 0, 0, 0, 0, 0, 0, 0, 0, 0, 0, 0, 0, 0, 0, 0, 0, 0, 0, 0, 0, 0, 0, 0, 0, 0, 0, 0, 0, 0, 0, 0, 0, 0, 0, 0, 0, 0, 0, 0, 0, 0, 0, 0, 0, 0, 0, 0, 0, 0, 0, 0, 0, 0, 0, 0, 0, 0, 0, 0, 0, 0, 0, 0, 0, 0, 0, 0, 0, 0, 0, 0, 0, 0, 0, 0, 0, 0, 0, 0, 0, 0, 0, 0, 0, 0, 0, 0, 0, 0, 0, 0, 0, 0, 0, 0, 0, 0, 0, 0, 0, 0, 0, 0, 0, 0, 0, 0, 0, 0, 0, 0, 0, 0, 0, 0, 0, 0, 0, 0, 0, 0, 0, 0, 0, 0, 0, 0, 0, 0, 0, 0, 0, 0, 0, 0, 0, 0, 0, 0, 0, 0, 0, 0, 0, 0, 0, 0, 0, 0, 0, 0, 0, 0, 0, 0, 0, 0, 0, 0, 0, 0, 0, 0, 0, 0, 0, 0, 0, 0, 0, 0, 0, 0, 0, 0, 0, 0, 0, 0, 0, 0, 0, 0, 0, 0, 0, 0, 0, 0, 0, 0, 0, 0, 0, 0, 0, 0, 0, 0, 0, 0, 0, 0, 0, 0, 0, 0, 0, 0, 0, 0, 0, 0, 0, 0, 0, 0, 0, 0, 0, 0, 0, 0, 0, 0, 0, 0, 0, 0, 0, 0, 0, 0, 0, 0, 0, 0, 0, 0, 0, 0, 0, 0, 0, 0, 0, 0, 0, 0, 0, 0, 0, 0, 0, 0, 0, 0, 0], 'offset_mapping': [[0, 0], [0, 4], [5, 7], [8, 10], [11, 16], [17, 19], [20, 23], [24, 29], [30, 34], [35, 39], [40, 48], [48, 49], [0, 0], [0, 13], [13, 15], [16, 19], [20, 26], [27, 30], [31, 32], [33, 41], [42, 51], [51, 52], [53, 57], [58, 61], [62, 66], [67, 75], [76, 82], [83, 87], [88, 90], [91, 94], [95, 101], [102, 108], [109, 111], [112, 115], [116, 122], [123, 127], [127, 128], [129, 140], [141, 143], [144, 149], [150, 152], [153, 156], [157, 161], [162, 170], [171, 173], [174, 180], [181, 183], [184, 186], [187, 188], [189, 195], [196, 202], [203, 205], [206, 212], [213, 217], [218, 222], [223, 226], [226, 229], [229, 232], [233, 237], [238, 241], [242, 248], [249, 252], [253, 256], [257, 260], [261, 263], [263, 265], [266, 271], [271, 272], [273, 277], [278, 280], [281, 284], [285, 289], [290, 298], [299, 301], [302, 305], [306, 314], [315, 317], [318, 321], [322, 328], [329, 334], [334, 335], [336, 347], [348, 354], [355, 358], [359, 367], [368, 370], [371, 374], [375, 377], [377, 381], [382, 384], [385, 389], [390, 392], [393, 398], [399, 401], [402, 408], [409, 412], [413, 423], [423, 424], [425, 427], [428, 430], [431, 432], [433, 440], [441, 443], [444, 447], [448, 450], [450, 454], [455, 457], [458, 461], [461, 465], [466, 472], [473, 478], [479, 482], [483, 489], [490, 494], [495, 502], [502, 504], [505, 513], [514, 516], [517, 519], [520, 524], [524, 527], [527, 530], [531, 536], [537, 544], [545, 553], [554, 559], [560, 565], [565, 566], [567, 569], [570, 573], [574, 577], [578, 580], [581, 584], [585, 589], [590, 595], [596, 599], [600, 602], [603, 604], [605, 611], [612, 616], [617, 621], [622, 630], [631, 638], [639, 644], [645, 652], [653, 655], [656, 659], [660, 664], [665, 669], [670, 672], [673, 675], [676, 682], [683, 689], [690, 695], [696, 702], [703, 705], [706, 710], [710, 711], [0, 0], [0, 0], [0, 0], [0, 0], [0, 0], [0, 0], [0, 0], [0, 0], [0, 0], [0, 0], [0, 0], [0, 0], [0, 0], [0, 0], [0, 0], [0, 0], [0, 0], [0, 0], [0, 0], [0, 0], [0, 0], [0, 0], [0, 0], [0, 0], [0, 0], [0, 0], [0, 0], [0, 0], [0, 0], [0, 0], [0, 0], [0, 0], [0, 0], [0, 0], [0, 0], [0, 0], [0, 0], [0, 0], [0, 0], [0, 0], [0, 0], [0, 0], [0, 0], [0, 0], [0, 0], [0, 0], [0, 0], [0, 0], [0, 0], [0, 0], [0, 0], [0, 0], [0, 0], [0, 0], [0, 0], [0, 0], [0, 0], [0, 0], [0, 0], [0, 0], [0, 0], [0, 0], [0, 0], [0, 0], [0, 0], [0, 0], [0, 0], [0, 0], [0, 0], [0, 0], [0, 0], [0, 0], [0, 0], [0, 0], [0, 0], [0, 0], [0, 0], [0, 0], [0, 0], [0, 0], [0, 0], [0, 0], [0, 0], [0, 0], [0, 0], [0, 0], [0, 0], [0, 0], [0, 0], [0, 0], [0, 0], [0, 0], [0, 0], [0, 0], [0, 0], [0, 0], [0, 0], [0, 0], [0, 0], [0, 0], [0, 0], [0, 0], [0, 0], [0, 0], [0, 0], [0, 0], [0, 0], [0, 0], [0, 0], [0, 0], [0, 0], [0, 0], [0, 0], [0, 0], [0, 0], [0, 0], [0, 0], [0, 0], [0, 0], [0, 0], [0, 0], [0, 0], [0, 0], [0, 0], [0, 0], [0, 0], [0, 0], [0, 0], [0, 0], [0, 0], [0, 0], [0, 0], [0, 0], [0, 0], [0, 0], [0, 0], [0, 0], [0, 0], [0, 0], [0, 0], [0, 0], [0, 0], [0, 0], [0, 0], [0, 0], [0, 0], [0, 0], [0, 0], [0, 0], [0, 0], [0, 0], [0, 0], [0, 0], [0, 0], [0, 0], [0, 0], [0, 0], [0, 0], [0, 0], [0, 0], [0, 0], [0, 0], [0, 0], [0, 0], [0, 0], [0, 0], [0, 0], [0, 0], [0, 0], [0, 0], [0, 0], [0, 0], [0, 0], [0, 0], [0, 0], [0, 0], [0, 0], [0, 0], [0, 0], [0, 0], [0, 0], [0, 0], [0, 0], [0, 0], [0, 0], [0, 0], [0, 0], [0, 0], [0, 0], [0, 0], [0, 0], [0, 0], [0, 0], [0, 0], [0, 0], [0, 0], [0, 0], [0, 0], [0, 0], [0, 0], [0, 0], [0, 0], [0, 0], [0, 0], [0, 0], [0, 0], [0, 0], [0, 0], [0, 0], [0, 0], [0, 0], [0, 0], [0, 0], [0, 0], [0, 0], [0, 0], [0, 0], [0, 0], [0, 0], [0, 0], [0, 0], [0, 0], [0, 0], [0, 0], [0, 0], [0, 0], [0, 0], [0, 0], [0, 0], [0, 0], [0, 0], [0, 0], [0, 0], [0, 0], [0, 0], [0, 0], [0, 0], [0, 0], [0, 0], [0, 0], [0, 0], [0, 0], [0, 0], [0, 0], [0, 0], [0, 0], [0, 0], [0, 0], [0, 0], [0, 0], [0, 0], [0, 0], [0, 0], [0, 0], [0, 0], [0, 0], [0, 0], [0, 0], [0, 0], [0, 0], [0, 0], [0, 0], [0, 0], [0, 0], [0, 0], [0, 0], [0, 0], [0, 0], [0, 0], [0, 0], [0, 0], [0, 0], [0, 0], [0, 0], [0, 0], [0, 0], [0, 0], [0, 0], [0, 0], [0, 0], [0, 0], [0, 0], [0, 0], [0, 0], [0, 0], [0, 0], [0, 0], [0, 0], [0, 0], [0, 0], [0, 0], [0, 0], [0, 0], [0, 0], [0, 0], [0, 0], [0, 0], [0, 0], [0, 0], [0, 0], [0, 0], [0, 0], [0, 0], [0, 0], [0, 0], [0, 0], [0, 0], [0, 0], [0, 0], [0, 0], [0, 0], [0, 0], [0, 0], [0, 0], [0, 0], [0, 0], [0, 0], [0, 0], [0, 0], [0, 0], [0, 0], [0, 0], [0, 0], [0, 0], [0, 0], [0, 0], [0, 0], [0, 0], [0, 0], [0, 0], [0, 0], [0, 0], [0, 0], [0, 0], [0, 0], [0, 0], [0, 0], [0, 0], [0, 0], [0, 0], [0, 0], [0, 0], [0, 0], [0, 0], [0, 0], [0, 0], [0, 0], [0, 0], [0, 0], [0, 0], [0, 0], [0, 0], [0, 0], [0, 0]], 'start_positions': 48, 'end_positions': 52}\n"
     ]
    }
   ],
   "source": [
    "# Print the first row for verification\n",
    "print(\"First processed training row:\")\n",
    "print(train_dataset[0])"
   ]
  },
  {
   "cell_type": "code",
   "execution_count": 8,
   "id": "99097834-ae8b-46b1-a8f0-a80b83b95d6c",
   "metadata": {
    "tags": []
   },
   "outputs": [
    {
     "name": "stdout",
     "output_type": "stream",
     "text": [
      "Initializing model...\n"
     ]
    },
    {
     "name": "stderr",
     "output_type": "stream",
     "text": [
      "Some weights of BertForQuestionAnswering were not initialized from the model checkpoint at bert-base-uncased and are newly initialized: ['qa_outputs.weight', 'qa_outputs.bias']\n",
      "You should probably TRAIN this model on a down-stream task to be able to use it for predictions and inference.\n"
     ]
    },
    {
     "name": "stdout",
     "output_type": "stream",
     "text": [
      "Model initialized successfully.\n"
     ]
    }
   ],
   "source": [
    "# Model initialization\n",
    "print(\"Initializing model...\")\n",
    "model = AutoModelForQuestionAnswering.from_pretrained('bert-base-uncased')\n",
    "print(\"Model initialized successfully.\")"
   ]
  },
  {
   "cell_type": "code",
   "execution_count": 9,
   "id": "57c5e1e6-ec55-48ca-ace6-7ea456aeba1f",
   "metadata": {
    "tags": []
   },
   "outputs": [
    {
     "name": "stdout",
     "output_type": "stream",
     "text": [
      "Setting up DataLoaders...\n",
      "DataLoaders set up successfully.\n"
     ]
    }
   ],
   "source": [
    "# DataLoader setup\n",
    "print(\"Setting up DataLoaders...\")\n",
    "def collate_fn(batch):\n",
    "    input_ids = torch.nn.utils.rnn.pad_sequence([torch.tensor(d[\"input_ids\"]) for d in batch], batch_first=True)\n",
    "    attention_mask = torch.nn.utils.rnn.pad_sequence([torch.tensor(d[\"attention_mask\"]) for d in batch], batch_first=True)\n",
    "    token_type_ids = torch.nn.utils.rnn.pad_sequence([torch.tensor(d[\"token_type_ids\"]) for d in batch], batch_first=True)\n",
    "    start_positions = torch.tensor([d[\"start_positions\"] for d in batch])\n",
    "    end_positions = torch.tensor([d[\"end_positions\"] for d in batch])\n",
    "    return {\n",
    "        \"input_ids\": input_ids,\n",
    "        \"attention_mask\": attention_mask,\n",
    "        \"token_type_ids\": token_type_ids,\n",
    "        \"start_positions\": start_positions,\n",
    "        \"end_positions\": end_positions\n",
    "    }\n",
    "\n",
    "train_dataloader = DataLoader(train_dataset, batch_size=16, shuffle=True, collate_fn=collate_fn)\n",
    "val_dataloader = DataLoader(val_dataset, batch_size=16, collate_fn=collate_fn)\n",
    "print(\"DataLoaders set up successfully.\")"
   ]
  },
  {
   "cell_type": "code",
   "execution_count": 10,
   "id": "9fc3d9e0-cabc-4adc-af53-844bc654edb1",
   "metadata": {
    "tags": []
   },
   "outputs": [
    {
     "name": "stdout",
     "output_type": "stream",
     "text": [
      "Setting up optimizer and scheduler...\n",
      "huggingface/tokenizers: The current process just got forked, after parallelism has already been used. Disabling parallelism to avoid deadlocks...\n",
      "To disable this warning, you can either:\n",
      "\t- Avoid using `tokenizers` before the fork if possible\n",
      "\t- Explicitly set the environment variable TOKENIZERS_PARALLELISM=(true | false)\n",
      "huggingface/tokenizers: The current process just got forked, after parallelism has already been used. Disabling parallelism to avoid deadlocks...\n",
      "To disable this warning, you can either:\n",
      "\t- Avoid using `tokenizers` before the fork if possible\n",
      "\t- Explicitly set the environment variable TOKENIZERS_PARALLELISM=(true | false)\n",
      "Optimizer and scheduler set up successfully.\n"
     ]
    }
   ],
   "source": [
    "# Optimizer setup\n",
    "print(\"Setting up optimizer and scheduler...\")\n",
    "optimizer = AdamW(model.parameters(), lr=2e-5)\n",
    "\n",
    "num_epochs = 10  \n",
    "total_steps = len(train_dataloader) * num_epochs  # Total steps for specified epochs\n",
    "scheduler = get_linear_schedule_with_warmup(optimizer, num_warmup_steps=0, num_training_steps=total_steps)\n",
    "print(\"Optimizer and scheduler set up successfully.\")"
   ]
  },
  {
   "cell_type": "code",
   "execution_count": 11,
   "id": "a496db32-5f94-4a4c-a340-2f98d0205718",
   "metadata": {
    "tags": []
   },
   "outputs": [
    {
     "name": "stdout",
     "output_type": "stream",
     "text": [
      "Checking device...\n",
      "Using device: cuda\n"
     ]
    }
   ],
   "source": [
    "# Check if CUDA is available\n",
    "print(\"Checking device...\")\n",
    "device = torch.device(\"cuda\") if torch.cuda.is_available() else torch.device(\"cpu\")\n",
    "model.to(device)\n",
    "print(f\"Using device: {device}\")"
   ]
  },
  {
   "cell_type": "code",
   "execution_count": 12,
   "id": "bfffd10b-0ee9-461d-993a-8c421bebcc9c",
   "metadata": {
    "tags": []
   },
   "outputs": [
    {
     "name": "stdout",
     "output_type": "stream",
     "text": [
      "['input_ids', 'token_type_ids', 'attention_mask', 'offset_mapping', 'start_positions', 'end_positions']\n",
      "['input_ids', 'token_type_ids', 'attention_mask', 'offset_mapping', 'start_positions', 'end_positions']\n"
     ]
    }
   ],
   "source": [
    "print(train_dataset.column_names)\n",
    "print(val_dataset.column_names)"
   ]
  },
  {
   "cell_type": "code",
   "execution_count": 13,
   "id": "bf629705-263c-4282-b8bd-ef1680ed018d",
   "metadata": {},
   "outputs": [],
   "source": [
    "# Function to calculate the evaluation metrics Word Error Rate (WER)\n",
    "def calculate_wer(reference, hypothesis):\n",
    "    ref_words = reference.split()\n",
    "    hyp_words = hypothesis.split()\n",
    "    d = np.zeros((len(ref_words) + 1, len(hyp_words) + 1))\n",
    "    for i in range(len(ref_words) + 1):\n",
    "        d[i, 0] = i\n",
    "    for j in range(len(hyp_words) + 1):\n",
    "        d[0, j] = j\n",
    "    for i in range(1, len(ref_words) + 1):\n",
    "        for j in range(1, len(hyp_words) + 1):\n",
    "            if ref_words[i - 1] == hyp_words[j - 1]:\n",
    "                d[i, j] = d[i - 1, j - 1]\n",
    "            else:\n",
    "                substitution = d[i - 1, j - 1] + 1\n",
    "                insertion = d[i, j - 1] + 1\n",
    "                deletion = d[i - 1, j] + 1\n",
    "                d[i, j] = min(substitution, insertion, deletion)\n",
    "    wer = d[len(ref_words), len(hyp_words)] / len(ref_words) if len(ref_words) > 0 else 0\n",
    "    return wer"
   ]
  },
  {
   "cell_type": "code",
   "execution_count": 14,
   "id": "1d63e05d-e4be-4051-9156-a6ce9a195327",
   "metadata": {
    "tags": []
   },
   "outputs": [
    {
     "name": "stdout",
     "output_type": "stream",
     "text": [
      "Starting training epoch 1...\n"
     ]
    },
    {
     "name": "stderr",
     "output_type": "stream",
     "text": [
      "Training Epoch 1: 100%|██████████| 2321/2321 [13:53<00:00,  2.79it/s]\n"
     ]
    },
    {
     "name": "stdout",
     "output_type": "stream",
     "text": [
      "Epoch 1/10, Training Loss: 1.9236\n",
      "Starting evaluation for epoch 1...\n"
     ]
    },
    {
     "name": "stderr",
     "output_type": "stream",
     "text": [
      "Evaluating Epoch 1: 100%|██████████| 336/336 [00:48<00:00,  6.88it/s]\n"
     ]
    },
    {
     "name": "stdout",
     "output_type": "stream",
     "text": [
      "Validation Loss after Epoch 1: 1.5725, WER: 2.2677\n",
      "Starting training epoch 2...\n"
     ]
    },
    {
     "name": "stderr",
     "output_type": "stream",
     "text": [
      "Training Epoch 2: 100%|██████████| 2321/2321 [13:54<00:00,  2.78it/s]\n"
     ]
    },
    {
     "name": "stdout",
     "output_type": "stream",
     "text": [
      "Epoch 2/10, Training Loss: 1.1200\n",
      "Starting evaluation for epoch 2...\n"
     ]
    },
    {
     "name": "stderr",
     "output_type": "stream",
     "text": [
      "Evaluating Epoch 2: 100%|██████████| 336/336 [00:48<00:00,  6.89it/s]\n"
     ]
    },
    {
     "name": "stdout",
     "output_type": "stream",
     "text": [
      "Validation Loss after Epoch 2: 1.5048, WER: 1.8827\n",
      "Starting training epoch 3...\n"
     ]
    },
    {
     "name": "stderr",
     "output_type": "stream",
     "text": [
      "Training Epoch 3: 100%|██████████| 2321/2321 [13:54<00:00,  2.78it/s]\n"
     ]
    },
    {
     "name": "stdout",
     "output_type": "stream",
     "text": [
      "Epoch 3/10, Training Loss: 0.7886\n",
      "Starting evaluation for epoch 3...\n"
     ]
    },
    {
     "name": "stderr",
     "output_type": "stream",
     "text": [
      "Evaluating Epoch 3: 100%|██████████| 336/336 [00:48<00:00,  6.89it/s]\n"
     ]
    },
    {
     "name": "stdout",
     "output_type": "stream",
     "text": [
      "Validation Loss after Epoch 3: 1.5817, WER: 1.6705\n",
      "Starting training epoch 4...\n"
     ]
    },
    {
     "name": "stderr",
     "output_type": "stream",
     "text": [
      "Training Epoch 4: 100%|██████████| 2321/2321 [13:54<00:00,  2.78it/s]\n"
     ]
    },
    {
     "name": "stdout",
     "output_type": "stream",
     "text": [
      "Epoch 4/10, Training Loss: 0.5613\n",
      "Starting evaluation for epoch 4...\n"
     ]
    },
    {
     "name": "stderr",
     "output_type": "stream",
     "text": [
      "Evaluating Epoch 4: 100%|██████████| 336/336 [00:48<00:00,  6.89it/s]\n"
     ]
    },
    {
     "name": "stdout",
     "output_type": "stream",
     "text": [
      "Validation Loss after Epoch 4: 1.8357, WER: 1.3809\n",
      "Starting training epoch 5...\n"
     ]
    },
    {
     "name": "stderr",
     "output_type": "stream",
     "text": [
      "Training Epoch 5: 100%|██████████| 2321/2321 [13:54<00:00,  2.78it/s]\n"
     ]
    },
    {
     "name": "stdout",
     "output_type": "stream",
     "text": [
      "Epoch 5/10, Training Loss: 0.4099\n",
      "Starting evaluation for epoch 5...\n"
     ]
    },
    {
     "name": "stderr",
     "output_type": "stream",
     "text": [
      "Evaluating Epoch 5: 100%|██████████| 336/336 [00:48<00:00,  6.87it/s]\n"
     ]
    },
    {
     "name": "stdout",
     "output_type": "stream",
     "text": [
      "Validation Loss after Epoch 5: 2.0193, WER: 1.6001\n",
      "Starting training epoch 6...\n"
     ]
    },
    {
     "name": "stderr",
     "output_type": "stream",
     "text": [
      "Training Epoch 6: 100%|██████████| 2321/2321 [13:54<00:00,  2.78it/s]\n"
     ]
    },
    {
     "name": "stdout",
     "output_type": "stream",
     "text": [
      "Epoch 6/10, Training Loss: 0.3061\n",
      "Starting evaluation for epoch 6...\n"
     ]
    },
    {
     "name": "stderr",
     "output_type": "stream",
     "text": [
      "Evaluating Epoch 6: 100%|██████████| 336/336 [00:48<00:00,  6.86it/s]\n"
     ]
    },
    {
     "name": "stdout",
     "output_type": "stream",
     "text": [
      "Validation Loss after Epoch 6: 2.1449, WER: 1.4585\n",
      "Starting training epoch 7...\n"
     ]
    },
    {
     "name": "stderr",
     "output_type": "stream",
     "text": [
      "Training Epoch 7: 100%|██████████| 2321/2321 [13:54<00:00,  2.78it/s]\n"
     ]
    },
    {
     "name": "stdout",
     "output_type": "stream",
     "text": [
      "Epoch 7/10, Training Loss: 0.2281\n",
      "Starting evaluation for epoch 7...\n"
     ]
    },
    {
     "name": "stderr",
     "output_type": "stream",
     "text": [
      "Evaluating Epoch 7: 100%|██████████| 336/336 [00:48<00:00,  6.86it/s]\n"
     ]
    },
    {
     "name": "stdout",
     "output_type": "stream",
     "text": [
      "Validation Loss after Epoch 7: 2.3659, WER: 1.7053\n",
      "Starting training epoch 8...\n"
     ]
    },
    {
     "name": "stderr",
     "output_type": "stream",
     "text": [
      "Training Epoch 8: 100%|██████████| 2321/2321 [13:54<00:00,  2.78it/s]\n"
     ]
    },
    {
     "name": "stdout",
     "output_type": "stream",
     "text": [
      "Epoch 8/10, Training Loss: 0.1762\n",
      "Starting evaluation for epoch 8...\n"
     ]
    },
    {
     "name": "stderr",
     "output_type": "stream",
     "text": [
      "Evaluating Epoch 8: 100%|██████████| 336/336 [00:48<00:00,  6.90it/s]\n"
     ]
    },
    {
     "name": "stdout",
     "output_type": "stream",
     "text": [
      "Validation Loss after Epoch 8: 2.4854, WER: 1.7573\n",
      "Starting training epoch 9...\n"
     ]
    },
    {
     "name": "stderr",
     "output_type": "stream",
     "text": [
      "Training Epoch 9: 100%|██████████| 2321/2321 [13:53<00:00,  2.79it/s]\n"
     ]
    },
    {
     "name": "stdout",
     "output_type": "stream",
     "text": [
      "Epoch 9/10, Training Loss: 0.1409\n",
      "Starting evaluation for epoch 9...\n"
     ]
    },
    {
     "name": "stderr",
     "output_type": "stream",
     "text": [
      "Evaluating Epoch 9: 100%|██████████| 336/336 [00:48<00:00,  6.91it/s]\n"
     ]
    },
    {
     "name": "stdout",
     "output_type": "stream",
     "text": [
      "Validation Loss after Epoch 9: 2.6362, WER: 1.7432\n",
      "Starting training epoch 10...\n"
     ]
    },
    {
     "name": "stderr",
     "output_type": "stream",
     "text": [
      "Training Epoch 10: 100%|██████████| 2321/2321 [13:53<00:00,  2.79it/s]\n"
     ]
    },
    {
     "name": "stdout",
     "output_type": "stream",
     "text": [
      "Epoch 10/10, Training Loss: 0.1137\n",
      "Starting evaluation for epoch 10...\n"
     ]
    },
    {
     "name": "stderr",
     "output_type": "stream",
     "text": [
      "Evaluating Epoch 10: 100%|██████████| 336/336 [00:48<00:00,  6.92it/s]"
     ]
    },
    {
     "name": "stdout",
     "output_type": "stream",
     "text": [
      "Validation Loss after Epoch 10: 2.7365, WER: 1.8796\n"
     ]
    },
    {
     "name": "stderr",
     "output_type": "stream",
     "text": [
      "\n"
     ]
    }
   ],
   "source": [
    "# Training loop with validation after each epoch\n",
    "gradient_accumulation_steps = 2  # Number of steps to accumulate gradients\n",
    "for epoch in range(num_epochs):\n",
    "    print(f\"Starting training epoch {epoch + 1}...\")\n",
    "    model.train()\n",
    "    total_loss = 0\n",
    "    for step, batch in enumerate(tqdm(train_dataloader, desc=f\"Training Epoch {epoch + 1}\")):\n",
    "        input_ids = batch[\"input_ids\"].to(device)\n",
    "        token_type_ids = batch[\"token_type_ids\"].to(device)\n",
    "        attention_mask = batch[\"attention_mask\"].to(device)\n",
    "        start_positions = batch[\"start_positions\"].to(device)\n",
    "        end_positions = batch[\"end_positions\"].to(device)\n",
    "        \n",
    "        outputs = model(input_ids, token_type_ids=token_type_ids, attention_mask=attention_mask, start_positions=start_positions, end_positions=end_positions)\n",
    "        loss = outputs.loss\n",
    "        total_loss += loss.item()\n",
    "        \n",
    "        loss = loss / gradient_accumulation_steps\n",
    "        loss.backward()\n",
    "        \n",
    "        if (step + 1) % gradient_accumulation_steps == 0:\n",
    "            optimizer.step()\n",
    "            scheduler.step()\n",
    "            optimizer.zero_grad()\n",
    "    \n",
    "    avg_loss = total_loss / len(train_dataloader)\n",
    "    print(f\"Epoch {epoch + 1}/{num_epochs}, Training Loss: {avg_loss:.4f}\")\n",
    "\n",
    "    # Evaluation after each epoch\n",
    "    print(f\"Starting evaluation for epoch {epoch + 1}...\")\n",
    "    model.eval()\n",
    "    total_eval_loss = 0\n",
    "    wer_total = 0\n",
    "    num_eval_examples = 0\n",
    "    with torch.no_grad():\n",
    "        for batch in tqdm(val_dataloader, desc=f\"Evaluating Epoch {epoch + 1}\"):\n",
    "            input_ids = batch[\"input_ids\"].to(device)\n",
    "            attention_mask = batch[\"attention_mask\"].to(device)\n",
    "            token_type_ids = batch[\"token_type_ids\"].to(device)\n",
    "            start_positions = batch[\"start_positions\"].to(device)\n",
    "            end_positions = batch[\"end_positions\"].to(device)\n",
    "            \n",
    "            outputs = model(input_ids, attention_mask=attention_mask, token_type_ids=token_type_ids, start_positions=start_positions, end_positions=end_positions)\n",
    "            loss = outputs.loss\n",
    "            total_eval_loss += loss.item()\n",
    "\n",
    "            # Calculate Word Error Rate (WER)\n",
    "            start_preds = torch.argmax(outputs.start_logits, dim=1)\n",
    "            end_preds = torch.argmax(outputs.end_logits, dim=1)\n",
    "            predictions = []\n",
    "            references = []\n",
    "            for i in range(input_ids.size(0)):\n",
    "                pred_start, pred_end = start_preds[i].item(), end_preds[i].item()\n",
    "                predicted_text = tokenizer.decode(input_ids[i][pred_start:pred_end + 1], skip_special_tokens=True)\n",
    "                predictions.append(predicted_text)\n",
    "                ref_start, ref_end = start_positions[i].item(), end_positions[i].item()\n",
    "                reference_text = tokenizer.decode(input_ids[i][ref_start:ref_end + 1], skip_special_tokens=True)\n",
    "                references.append(reference_text)\n",
    "            \n",
    "            for ref, pred in zip(references, predictions):\n",
    "                if ref.strip() and pred.strip():\n",
    "                    wer_total += calculate_wer(ref, pred)\n",
    "                    num_eval_examples += 1\n",
    "    \n",
    "    avg_eval_loss = total_eval_loss / len(val_dataloader)\n",
    "    avg_wer = wer_total / num_eval_examples if num_eval_examples > 0 else 0\n",
    "    print(f\"Validation Loss after Epoch {epoch + 1}: {avg_eval_loss:.4f}, WER: {avg_wer:.4f}\")"
   ]
  },
  {
   "cell_type": "code",
   "execution_count": 15,
   "id": "69413915-ee01-4548-a914-1a47da899750",
   "metadata": {},
   "outputs": [
    {
     "name": "stdout",
     "output_type": "stream",
     "text": [
      "Model and tokenizer saved\n"
     ]
    }
   ],
   "source": [
    "# Save model at the end\n",
    "model.save_pretrained(\"./BERT_trained_model\")\n",
    "tokenizer.save_pretrained(\"./BERT_trained_model\")\n",
    "print(f\"Model and tokenizer saved\")"
   ]
  },
  {
   "cell_type": "code",
   "execution_count": 16,
   "id": "f5045af3-02a0-41d4-9b94-ceb0e9db80a7",
   "metadata": {
    "tags": []
   },
   "outputs": [
    {
     "name": "stderr",
     "output_type": "stream",
     "text": [
      "Final Evaluation on Test Set (no noise): 100%|██████████| 336/336 [00:48<00:00,  6.92it/s]\n"
     ]
    },
    {
     "name": "stdout",
     "output_type": "stream",
     "text": [
      "Final Test Set (no noise) Word Error Rate (WER): 1.8796\n"
     ]
    },
    {
     "data": {
      "image/png": "[encoded data removed]",
      "text/plain": [
       "<Figure size 1200x600 with 1 Axes>"
      ]
     },
     "metadata": {},
     "output_type": "display_data"
    }
   ],
   "source": [
    "# Final Evaluation on Test Set (No Noise)\n",
    "\n",
    "# Lists to store WER values for each instance\n",
    "wer_per_instance = []\n",
    "\n",
    "# Final evaluation with WER calculation\n",
    "model.eval()\n",
    "total_test_loss = 0\n",
    "wer_total = 0\n",
    "num_wer_examples = 0\n",
    "predictions = []\n",
    "references = []\n",
    "\n",
    "with torch.no_grad():\n",
    "    for batch in tqdm(val_dataloader, desc=\"Final Evaluation on Test Set (no noise)\"):\n",
    "        input_ids = batch[\"input_ids\"].to(device)\n",
    "        attention_mask = batch[\"attention_mask\"].to(device)\n",
    "        token_type_ids = batch[\"token_type_ids\"].to(device)\n",
    "        start_positions = batch[\"start_positions\"].to(device)\n",
    "        end_positions = batch[\"end_positions\"].to(device)\n",
    "\n",
    "        # Get model outputs\n",
    "        outputs = model(input_ids, attention_mask=attention_mask, token_type_ids=token_type_ids,\n",
    "                        start_positions=start_positions, end_positions=end_positions)\n",
    "        loss = outputs.loss\n",
    "        total_test_loss += loss.item()\n",
    "\n",
    "        # Decode predictions and references\n",
    "        start_preds = torch.argmax(outputs.start_logits, dim=1)\n",
    "        end_preds = torch.argmax(outputs.end_logits, dim=1)\n",
    "\n",
    "        for i in range(input_ids.size(0)):\n",
    "            pred_start, pred_end = start_preds[i].item(), end_preds[i].item()\n",
    "            predicted_text = tokenizer.decode(input_ids[i][pred_start:pred_end + 1], skip_special_tokens=True)\n",
    "            ref_start, ref_end = start_positions[i].item(), end_positions[i].item()\n",
    "            reference_text = tokenizer.decode(input_ids[i][ref_start:ref_end + 1], skip_special_tokens=True)\n",
    "\n",
    "            predictions.append(predicted_text)\n",
    "            references.append(reference_text)\n",
    "\n",
    "            # Calculate WER for current instance\n",
    "            if reference_text.strip() and predicted_text.strip():  # Ensure neither reference nor prediction is empty\n",
    "                current_wer = calculate_wer(reference_text, predicted_text)\n",
    "                wer_per_instance.append(current_wer)\n",
    "                wer_total += current_wer\n",
    "                num_wer_examples += 1\n",
    "\n",
    "# Calculate average WER\n",
    "avg_wer = wer_total / num_wer_examples if num_wer_examples > 0 else 0\n",
    "print(f\"Final Test Set (no noise) Word Error Rate (WER): {avg_wer:.4f}\")\n",
    "\n",
    "# Plot WER for each instance and average WER as a horizontal line\n",
    "plt.figure(figsize=(12, 6))\n",
    "plt.plot(range(len(wer_per_instance)), wer_per_instance, label='WER per Instance')\n",
    "plt.axhline(y=avg_wer, color='r', linestyle='-', linewidth=1, label=f'Average WER: {avg_wer:.4f}')\n",
    "plt.xlabel('Instance Number')\n",
    "plt.ylabel('Word Error Rate (WER)')\n",
    "plt.title('WER for Each Instance in the Test Set (No Noise)')\n",
    "plt.legend()\n",
    "plt.show()"
   ]
  },
  {
   "cell_type": "code",
   "execution_count": 17,
   "id": "25031c16-b62a-4e7d-8a94-99cc15f8dd06",
   "metadata": {
    "tags": []
   },
   "outputs": [
    {
     "data": {
      "application/vnd.jupyter.widget-view+json": {
       "model_id": "69cc33d4c4094060b261a6957eb2a014",
       "version_major": 2,
       "version_minor": 0
      },
      "text/plain": [
       "Map:   0%|          | 0/48 [00:00<?, ? examples/s]"
      ]
     },
     "metadata": {},
     "output_type": "display_data"
    },
    {
     "name": "stderr",
     "output_type": "stream",
     "text": [
      "Final Evaluation on Test Set (Noise v1): 100%|██████████| 336/336 [00:48<00:00,  6.93it/s]\n"
     ]
    },
    {
     "name": "stdout",
     "output_type": "stream",
     "text": [
      "Final Test Set (Noise v1) Word Error Rate (WER): 1.8282\n"
     ]
    },
    {
     "data": {
      "image/png": "[encoded data removed]",
      "text/plain": [
       "<Figure size 1200x600 with 1 Axes>"
      ]
     },
     "metadata": {},
     "output_type": "display_data"
    }
   ],
   "source": [
    "# Final Evaluation on Test Set (Noise v1 - WER 44 test dataset)\n",
    "\n",
    "test_dataset_wer44 = pd.read_json(\"Spoken-SQuAD/spoken_test-v1.1_WER44.json\")\n",
    "test_dataset_wer44 = Dataset.from_pandas(test_dataset_wer44)\n",
    "test_dataset_wer44 = test_dataset_wer44.map(prepare_training_features, batched=True, remove_columns=test_dataset_wer44.column_names)\n",
    "test_wer44_dataloader = DataLoader(test_dataset_wer44, batch_size=16, collate_fn=collate_fn)\n",
    "\n",
    "# Lists to store WER values for each instance\n",
    "wer_per_instance = []\n",
    "\n",
    "# Final evaluation with WER calculation\n",
    "model.eval()\n",
    "total_test_loss = 0\n",
    "wer_total = 0\n",
    "num_wer_examples = 0\n",
    "predictions = []\n",
    "references = []\n",
    "\n",
    "with torch.no_grad():\n",
    "    for batch in tqdm(test_wer44_dataloader, desc=\"Final Evaluation on Test Set (Noise v1)\"):\n",
    "        input_ids = batch[\"input_ids\"].to(device)\n",
    "        attention_mask = batch[\"attention_mask\"].to(device)\n",
    "        token_type_ids = batch[\"token_type_ids\"].to(device)\n",
    "        start_positions = batch[\"start_positions\"].to(device)\n",
    "        end_positions = batch[\"end_positions\"].to(device)\n",
    "\n",
    "        # Get model outputs\n",
    "        outputs = model(input_ids, attention_mask=attention_mask, token_type_ids=token_type_ids,\n",
    "                        start_positions=start_positions, end_positions=end_positions)\n",
    "        loss = outputs.loss\n",
    "        total_test_loss += loss.item()\n",
    "\n",
    "        # Decode predictions and references\n",
    "        start_preds = torch.argmax(outputs.start_logits, dim=1)\n",
    "        end_preds = torch.argmax(outputs.end_logits, dim=1)\n",
    "\n",
    "        for i in range(input_ids.size(0)):\n",
    "            pred_start, pred_end = start_preds[i].item(), end_preds[i].item()\n",
    "            predicted_text = tokenizer.decode(input_ids[i][pred_start:pred_end + 1], skip_special_tokens=True)\n",
    "            ref_start, ref_end = start_positions[i].item(), end_positions[i].item()\n",
    "            reference_text = tokenizer.decode(input_ids[i][ref_start:ref_end + 1], skip_special_tokens=True)\n",
    "\n",
    "            predictions.append(predicted_text)\n",
    "            references.append(reference_text)\n",
    "\n",
    "            # Calculate WER for current instance\n",
    "            if reference_text.strip() and predicted_text.strip():  # Ensure neither reference nor prediction is empty\n",
    "                current_wer = calculate_wer(reference_text, predicted_text)\n",
    "                wer_per_instance.append(current_wer)\n",
    "                wer_total += current_wer\n",
    "                num_wer_examples += 1\n",
    "\n",
    "# Calculate average WER\n",
    "avg_wer = wer_total / num_wer_examples if num_wer_examples > 0 else 0\n",
    "print(f\"Final Test Set (Noise v1) Word Error Rate (WER): {avg_wer:.4f}\")\n",
    "\n",
    "# Plot WER for each instance and average WER as a horizontal line\n",
    "plt.figure(figsize=(12, 6))\n",
    "plt.plot(range(len(wer_per_instance)), wer_per_instance, label='WER per Instance')\n",
    "plt.axhline(y=avg_wer, color='r', linestyle='-', linewidth=1, label=f'Average WER: {avg_wer:.4f}')\n",
    "plt.xlabel('Instance Number')\n",
    "plt.ylabel('Word Error Rate (WER)')\n",
    "plt.title('WER for Each Instance in the Test Set (Noise v1)')\n",
    "plt.legend()\n",
    "plt.show()"
   ]
  },
  {
   "cell_type": "code",
   "execution_count": 18,
   "id": "84551245-fa9c-494d-b272-2fc22f71e1e7",
   "metadata": {
    "tags": []
   },
   "outputs": [
    {
     "data": {
      "application/vnd.jupyter.widget-view+json": {
       "model_id": "116472d0f2914f08893293889e5bbb9c",
       "version_major": 2,
       "version_minor": 0
      },
      "text/plain": [
       "Map:   0%|          | 0/48 [00:00<?, ? examples/s]"
      ]
     },
     "metadata": {},
     "output_type": "display_data"
    },
    {
     "name": "stderr",
     "output_type": "stream",
     "text": [
      "Final Evaluation on Test Set (Noise v2): 100%|██████████| 336/336 [00:48<00:00,  6.93it/s]\n"
     ]
    },
    {
     "name": "stdout",
     "output_type": "stream",
     "text": [
      "Final Test Set (Noise v2) Word Error Rate (WER): 1.9118\n"
     ]
    },
    {
     "data": {
      "image/png": "[encoded data removed]",
      "text/plain": [
       "<Figure size 1200x600 with 1 Axes>"
      ]
     },
     "metadata": {},
     "output_type": "display_data"
    }
   ],
   "source": [
    "# Final Evaluation on Test Set (Noise v2 - WER 54 test dataset)\n",
    "\n",
    "test_dataset_wer54 = pd.read_json(\"Spoken-SQuAD/spoken_test-v1.1_WER54.json\")\n",
    "test_dataset_wer54 = Dataset.from_pandas(test_dataset_wer54)\n",
    "test_dataset_wer54 = test_dataset_wer54.map(prepare_training_features, batched=True, remove_columns=test_dataset_wer54.column_names)\n",
    "test_wer54_dataloader = DataLoader(test_dataset_wer54, batch_size=16, collate_fn=collate_fn)\n",
    "\n",
    "# Lists to store WER values for each instance\n",
    "wer_per_instance = []\n",
    "\n",
    "# Final evaluation with WER calculation\n",
    "model.eval()\n",
    "total_test_loss = 0\n",
    "wer_total = 0\n",
    "num_wer_examples = 0\n",
    "predictions = []\n",
    "references = []\n",
    "\n",
    "with torch.no_grad():\n",
    "    for batch in tqdm(test_wer54_dataloader, desc=\"Final Evaluation on Test Set (Noise v2)\"):\n",
    "        input_ids = batch[\"input_ids\"].to(device)\n",
    "        attention_mask = batch[\"attention_mask\"].to(device)\n",
    "        token_type_ids = batch[\"token_type_ids\"].to(device)\n",
    "        start_positions = batch[\"start_positions\"].to(device)\n",
    "        end_positions = batch[\"end_positions\"].to(device)\n",
    "\n",
    "        # Get model outputs\n",
    "        outputs = model(input_ids, attention_mask=attention_mask, token_type_ids=token_type_ids,\n",
    "                        start_positions=start_positions, end_positions=end_positions)\n",
    "        loss = outputs.loss\n",
    "        total_test_loss += loss.item()\n",
    "\n",
    "        # Decode predictions and references\n",
    "        start_preds = torch.argmax(outputs.start_logits, dim=1)\n",
    "        end_preds = torch.argmax(outputs.end_logits, dim=1)\n",
    "\n",
    "        for i in range(input_ids.size(0)):\n",
    "            pred_start, pred_end = start_preds[i].item(), end_preds[i].item()\n",
    "            predicted_text = tokenizer.decode(input_ids[i][pred_start:pred_end + 1], skip_special_tokens=True)\n",
    "            ref_start, ref_end = start_positions[i].item(), end_positions[i].item()\n",
    "            reference_text = tokenizer.decode(input_ids[i][ref_start:ref_end + 1], skip_special_tokens=True)\n",
    "\n",
    "            predictions.append(predicted_text)\n",
    "            references.append(reference_text)\n",
    "\n",
    "            # Calculate WER for current instance\n",
    "            if reference_text.strip() and predicted_text.strip():  # Ensure neither reference nor prediction is empty\n",
    "                current_wer = calculate_wer(reference_text, predicted_text)\n",
    "                wer_per_instance.append(current_wer)\n",
    "                wer_total += current_wer\n",
    "                num_wer_examples += 1\n",
    "\n",
    "# Calculate average WER\n",
    "avg_wer = wer_total / num_wer_examples if num_wer_examples > 0 else 0\n",
    "print(f\"Final Test Set (Noise v2) Word Error Rate (WER): {avg_wer:.4f}\")\n",
    "\n",
    "# Plot WER for each instance and average WER as a horizontal line\n",
    "plt.figure(figsize=(12, 6))\n",
    "plt.plot(range(len(wer_per_instance)), wer_per_instance, label='WER per Instance')\n",
    "plt.axhline(y=avg_wer, color='r', linestyle='-', linewidth=1, label=f'Average WER: {avg_wer:.4f}')\n",
    "plt.xlabel('Instance Number')\n",
    "plt.ylabel('Word Error Rate (WER)')\n",
    "plt.title('WER for Each Instance in the Test Set (Noise v2)')\n",
    "plt.legend()\n",
    "plt.show()"
   ]
  }
 ],
 "metadata": {
  "kernelspec": {
   "display_name": "Python 3 (ipykernel)",
   "language": "python",
   "name": "python3"
  },
  "language_info": {
   "codemirror_mode": {
    "name": "ipython",
    "version": 3
   },
   "file_extension": ".py",
   "mimetype": "text/x-python",
   "name": "python",
   "nbconvert_exporter": "python",
   "pygments_lexer": "ipython3",
   "version": "3.11.5"
  }
 },
 "nbformat": 4,
 "nbformat_minor": 5
}
